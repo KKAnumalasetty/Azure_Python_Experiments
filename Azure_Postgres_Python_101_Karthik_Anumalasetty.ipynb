{
  "nbformat": 4,
  "nbformat_minor": 0,
  "metadata": {
    "colab": {
      "name": "Azure_Postgres_Python_101 - Karthik Anumalasetty.ipynb",
      "private_outputs": true,
      "provenance": [],
      "collapsed_sections": [],
      "authorship_tag": "ABX9TyNg2Jc8Hrwd8QGAx9eAGBvZ",
      "include_colab_link": true
    },
    "kernelspec": {
      "name": "python3",
      "display_name": "Python 3"
    },
    "language_info": {
      "name": "python"
    }
  },
  "cells": [
    {
      "cell_type": "markdown",
      "metadata": {
        "id": "view-in-github",
        "colab_type": "text"
      },
      "source": [
        "<a href=\"https://colab.research.google.com/github/KKAnumalasetty/Azure_Python_Experiments/blob/main/Azure_Postgres_Python_101_Karthik_Anumalasetty.ipynb\" target=\"_parent\"><img src=\"https://colab.research.google.com/assets/colab-badge.svg\" alt=\"Open In Colab\"/></a>"
      ]
    },
    {
      "cell_type": "markdown",
      "metadata": {
        "id": "kmocIIzH52Up"
      },
      "source": [
        "# Step 1: Import python package (psycopg2) to access Postgres Database\n",
        "--  On a local computer, you need to install the psycopg2 package before you import and start using it.\n"
      ]
    },
    {
      "cell_type": "code",
      "metadata": {
        "id": "Ety1saso4yn1"
      },
      "source": [
        "import psycopg2\n",
        "import pandas as pd\n",
        "import getpass"
      ],
      "execution_count": null,
      "outputs": []
    },
    {
      "cell_type": "markdown",
      "metadata": {
        "id": "sjbBFxSC6Jc5"
      },
      "source": [
        "# Step 2: Establish a connection with the postgres database\n",
        "-- You need to understand the connection string \n",
        "\n",
        "\n",
        "1.   Hostname = ipaddress or the servername (in this case, its the azure server address which is available on the azure postgres homepage)\n",
        "2.   user = database user name (available on the homepage of azure postgres homepage)\n",
        "3. sslmode = require (psycopg2 uses sslmode as \"require\" instead of \"true\")\n",
        "4. password = database password (azure postgres database password)\n",
        "5. dbname = database name\n",
        "\n",
        "\n",
        "\n"
      ]
    },
    {
      "cell_type": "code",
      "metadata": {
        "id": "VNzZxlZ847lR"
      },
      "source": [
        "db_password = getpass.getpass()\n",
        "conn = psycopg2.connect(dbname='Adventureworks', user='postgres@karthik-python-postgres', host='karthik-python-postgres.postgres.database.azure.com', password=db_password, port='5432' ,sslmode='require')\n",
        "conn"
      ],
      "execution_count": null,
      "outputs": []
    },
    {
      "cell_type": "markdown",
      "metadata": {
        "id": "SOYN5kaP7AZo"
      },
      "source": [
        "# Step 3: Run a select query and display the results in a tabular format in python i.e., pandas dataframe format\n",
        "-- Use the pandas read_sql() method to run the sql query over the connection object created in step-2\n",
        "-- Display the results in a user friendly tabular format."
      ]
    },
    {
      "cell_type": "code",
      "metadata": {
        "id": "_GzaB_9O5mRB"
      },
      "source": [
        "result_df = pd.read_sql(''' SELECT * FROM person.address\n",
        "ORDER BY addressid ASC ''', conn)\n",
        "\n",
        "result_df"
      ],
      "execution_count": null,
      "outputs": []
    }
  ]
}